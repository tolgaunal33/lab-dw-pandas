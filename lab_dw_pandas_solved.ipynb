{
  "cells": [
    {
      "cell_type": "markdown",
      "id": "25d7736c-ba17-4aff-b6bb-66eba20fbf4e",
      "metadata": {
        "id": "25d7736c-ba17-4aff-b6bb-66eba20fbf4e"
      },
      "source": [
        "# Lab | Pandas"
      ]
    },
    {
      "cell_type": "markdown",
      "id": "d1973e9e-8be6-4039-b70e-d73ee0d94c99",
      "metadata": {
        "id": "d1973e9e-8be6-4039-b70e-d73ee0d94c99"
      },
      "source": [
        "In this lab, we will be working with the customer data from an insurance company, which can be found in the CSV file located at the following link: https://raw.githubusercontent.com/data-bootcamp-v4/data/main/file1.csv\n",
        "\n",
        "The data includes information such as customer ID, state, gender, education, income, and other variables that can be used to perform various analyses.\n",
        "\n",
        "Throughout the lab, we will be using the pandas library in Python to manipulate and analyze the data. Pandas is a powerful library that provides various data manipulation and analysis tools, including the ability to load and manipulate data from a variety of sources, including CSV files."
      ]
    },
    {
      "cell_type": "markdown",
      "id": "8045146f-f4f7-44d9-8cd9-130d6400c73a",
      "metadata": {
        "id": "8045146f-f4f7-44d9-8cd9-130d6400c73a"
      },
      "source": [
        "### Data Description\n",
        "\n",
        "- Customer - Customer ID\n",
        "\n",
        "- ST - State where customers live\n",
        "\n",
        "- Gender - Gender of the customer\n",
        "\n",
        "- Education - Background education of customers\n",
        "\n",
        "- Customer Lifetime Value - Customer lifetime value(CLV) is the total revenue the client will derive from their entire relationship with a customer. In other words, is the predicted or calculated value of a customer over their entire duration as a policyholder with the insurance company. It is an estimation of the net profit that the insurance company expects to generate from a customer throughout their relationship with the company. Customer Lifetime Value takes into account factors such as the duration of the customer's policy, premium payments, claim history, renewal likelihood, and potential additional services or products the customer may purchase. It helps insurers assess the long-term profitability and value associated with retaining a particular customer.\n",
        "\n",
        "- Income - Customers income\n",
        "\n",
        "- Monthly Premium Auto - Amount of money the customer pays on a monthly basis as a premium for their auto insurance coverage. It represents the recurring cost that the insured person must pay to maintain their insurance policy and receive coverage for potential damages, accidents, or other covered events related to their vehicle.\n",
        "\n",
        "- Number of Open Complaints - Number of complaints the customer opened\n",
        "\n",
        "- Policy Type - There are three type of policies in car insurance (Corporate Auto, Personal Auto, and Special Auto)\n",
        "\n",
        "- Vehicle Class - Type of vehicle classes that customers have Two-Door Car, Four-Door Car SUV, Luxury SUV, Sports Car, and Luxury Car\n",
        "\n",
        "- Total Claim Amount - the sum of all claims made by the customer. It represents the total monetary value of all approved claims for incidents such as accidents, theft, vandalism, or other covered events.\n"
      ]
    },
    {
      "cell_type": "markdown",
      "id": "3a72419b-20fc-4905-817a-8c83abc59de6",
      "metadata": {
        "id": "3a72419b-20fc-4905-817a-8c83abc59de6"
      },
      "source": [
        "External Resources: https://towardsdatascience.com/filtering-data-frames-in-pandas-b570b1f834b9"
      ]
    },
    {
      "cell_type": "markdown",
      "id": "8f8ece17-e919-4e23-96c0-c7c59778436a",
      "metadata": {
        "id": "8f8ece17-e919-4e23-96c0-c7c59778436a"
      },
      "source": [
        "## Challenge 1: Understanding the data\n",
        "\n",
        "In this challenge, you will use pandas to explore a given dataset. Your task is to gain a deep understanding of the data by analyzing its characteristics, dimensions, and statistical properties."
      ]
    },
    {
      "cell_type": "markdown",
      "id": "91437bd5-59a6-49c0-8150-ef0e6e6eb253",
      "metadata": {
        "id": "91437bd5-59a6-49c0-8150-ef0e6e6eb253"
      },
      "source": [
        "- Identify the dimensions of the dataset by determining the number of rows and columns it contains.\n",
        "- Determine the data types of each column and evaluate whether they are appropriate for the nature of the variable. You should also provide suggestions for fixing any incorrect data types.\n",
        "- Identify the number of unique values for each column and determine which columns appear to be categorical. You should also describe the unique values of each categorical column and the range of values for numerical columns, and give your insights.\n",
        "- Compute summary statistics such as mean, median, mode, standard deviation, and quartiles to understand the central tendency and distribution of the data for numerical columns. You should also provide your conclusions based on these summary statistics.\n",
        "- Compute summary statistics for categorical columns and providing your conclusions based on these statistics."
      ]
    },
    {
      "cell_type": "code",
      "execution_count": 1,
      "id": "dd4e8cd8-a6f6-486c-a5c4-1745b0c035f4",
      "metadata": {
        "colab": {
          "base_uri": "https://localhost:8080/",
          "height": 327
        },
        "id": "dd4e8cd8-a6f6-486c-a5c4-1745b0c035f4",
        "outputId": "9d6830f2-5a45-40a2-867c-7a28f35d5106"
      },
      "outputs": [
        {
          "output_type": "display_data",
          "data": {
            "text/plain": [
              "  Customer          ST GENDER             Education Customer Lifetime Value  \\\n",
              "0  RB50392  Washington    NaN                Master                     NaN   \n",
              "1  QZ44356     Arizona      F              Bachelor              697953.59%   \n",
              "2  AI49188      Nevada      F              Bachelor             1288743.17%   \n",
              "3  WW63253  California      M              Bachelor              764586.18%   \n",
              "4  GA49547  Washington      M  High School or Below              536307.65%   \n",
              "\n",
              "    Income  Monthly Premium Auto Number of Open Complaints     Policy Type  \\\n",
              "0      0.0                1000.0                    1/0/00   Personal Auto   \n",
              "1      0.0                  94.0                    1/0/00   Personal Auto   \n",
              "2  48767.0                 108.0                    1/0/00   Personal Auto   \n",
              "3      0.0                 106.0                    1/0/00  Corporate Auto   \n",
              "4  36357.0                  68.0                    1/0/00   Personal Auto   \n",
              "\n",
              "   Vehicle Class  Total Claim Amount  \n",
              "0  Four-Door Car            2.704934  \n",
              "1  Four-Door Car         1131.464935  \n",
              "2   Two-Door Car          566.472247  \n",
              "3            SUV          529.881344  \n",
              "4  Four-Door Car           17.269323  "
            ],
            "text/html": [
              "\n",
              "  <div id=\"df-fb36b45c-1106-47fc-9634-03e33b38ae77\" class=\"colab-df-container\">\n",
              "    <div>\n",
              "<style scoped>\n",
              "    .dataframe tbody tr th:only-of-type {\n",
              "        vertical-align: middle;\n",
              "    }\n",
              "\n",
              "    .dataframe tbody tr th {\n",
              "        vertical-align: top;\n",
              "    }\n",
              "\n",
              "    .dataframe thead th {\n",
              "        text-align: right;\n",
              "    }\n",
              "</style>\n",
              "<table border=\"1\" class=\"dataframe\">\n",
              "  <thead>\n",
              "    <tr style=\"text-align: right;\">\n",
              "      <th></th>\n",
              "      <th>Customer</th>\n",
              "      <th>ST</th>\n",
              "      <th>GENDER</th>\n",
              "      <th>Education</th>\n",
              "      <th>Customer Lifetime Value</th>\n",
              "      <th>Income</th>\n",
              "      <th>Monthly Premium Auto</th>\n",
              "      <th>Number of Open Complaints</th>\n",
              "      <th>Policy Type</th>\n",
              "      <th>Vehicle Class</th>\n",
              "      <th>Total Claim Amount</th>\n",
              "    </tr>\n",
              "  </thead>\n",
              "  <tbody>\n",
              "    <tr>\n",
              "      <th>0</th>\n",
              "      <td>RB50392</td>\n",
              "      <td>Washington</td>\n",
              "      <td>NaN</td>\n",
              "      <td>Master</td>\n",
              "      <td>NaN</td>\n",
              "      <td>0.0</td>\n",
              "      <td>1000.0</td>\n",
              "      <td>1/0/00</td>\n",
              "      <td>Personal Auto</td>\n",
              "      <td>Four-Door Car</td>\n",
              "      <td>2.704934</td>\n",
              "    </tr>\n",
              "    <tr>\n",
              "      <th>1</th>\n",
              "      <td>QZ44356</td>\n",
              "      <td>Arizona</td>\n",
              "      <td>F</td>\n",
              "      <td>Bachelor</td>\n",
              "      <td>697953.59%</td>\n",
              "      <td>0.0</td>\n",
              "      <td>94.0</td>\n",
              "      <td>1/0/00</td>\n",
              "      <td>Personal Auto</td>\n",
              "      <td>Four-Door Car</td>\n",
              "      <td>1131.464935</td>\n",
              "    </tr>\n",
              "    <tr>\n",
              "      <th>2</th>\n",
              "      <td>AI49188</td>\n",
              "      <td>Nevada</td>\n",
              "      <td>F</td>\n",
              "      <td>Bachelor</td>\n",
              "      <td>1288743.17%</td>\n",
              "      <td>48767.0</td>\n",
              "      <td>108.0</td>\n",
              "      <td>1/0/00</td>\n",
              "      <td>Personal Auto</td>\n",
              "      <td>Two-Door Car</td>\n",
              "      <td>566.472247</td>\n",
              "    </tr>\n",
              "    <tr>\n",
              "      <th>3</th>\n",
              "      <td>WW63253</td>\n",
              "      <td>California</td>\n",
              "      <td>M</td>\n",
              "      <td>Bachelor</td>\n",
              "      <td>764586.18%</td>\n",
              "      <td>0.0</td>\n",
              "      <td>106.0</td>\n",
              "      <td>1/0/00</td>\n",
              "      <td>Corporate Auto</td>\n",
              "      <td>SUV</td>\n",
              "      <td>529.881344</td>\n",
              "    </tr>\n",
              "    <tr>\n",
              "      <th>4</th>\n",
              "      <td>GA49547</td>\n",
              "      <td>Washington</td>\n",
              "      <td>M</td>\n",
              "      <td>High School or Below</td>\n",
              "      <td>536307.65%</td>\n",
              "      <td>36357.0</td>\n",
              "      <td>68.0</td>\n",
              "      <td>1/0/00</td>\n",
              "      <td>Personal Auto</td>\n",
              "      <td>Four-Door Car</td>\n",
              "      <td>17.269323</td>\n",
              "    </tr>\n",
              "  </tbody>\n",
              "</table>\n",
              "</div>\n",
              "    <div class=\"colab-df-buttons\">\n",
              "\n",
              "  <div class=\"colab-df-container\">\n",
              "    <button class=\"colab-df-convert\" onclick=\"convertToInteractive('df-fb36b45c-1106-47fc-9634-03e33b38ae77')\"\n",
              "            title=\"Convert this dataframe to an interactive table.\"\n",
              "            style=\"display:none;\">\n",
              "\n",
              "  <svg xmlns=\"http://www.w3.org/2000/svg\" height=\"24px\" viewBox=\"0 -960 960 960\">\n",
              "    <path d=\"M120-120v-720h720v720H120Zm60-500h600v-160H180v160Zm220 220h160v-160H400v160Zm0 220h160v-160H400v160ZM180-400h160v-160H180v160Zm440 0h160v-160H620v160ZM180-180h160v-160H180v160Zm440 0h160v-160H620v160Z\"/>\n",
              "  </svg>\n",
              "    </button>\n",
              "\n",
              "  <style>\n",
              "    .colab-df-container {\n",
              "      display:flex;\n",
              "      gap: 12px;\n",
              "    }\n",
              "\n",
              "    .colab-df-convert {\n",
              "      background-color: #E8F0FE;\n",
              "      border: none;\n",
              "      border-radius: 50%;\n",
              "      cursor: pointer;\n",
              "      display: none;\n",
              "      fill: #1967D2;\n",
              "      height: 32px;\n",
              "      padding: 0 0 0 0;\n",
              "      width: 32px;\n",
              "    }\n",
              "\n",
              "    .colab-df-convert:hover {\n",
              "      background-color: #E2EBFA;\n",
              "      box-shadow: 0px 1px 2px rgba(60, 64, 67, 0.3), 0px 1px 3px 1px rgba(60, 64, 67, 0.15);\n",
              "      fill: #174EA6;\n",
              "    }\n",
              "\n",
              "    .colab-df-buttons div {\n",
              "      margin-bottom: 4px;\n",
              "    }\n",
              "\n",
              "    [theme=dark] .colab-df-convert {\n",
              "      background-color: #3B4455;\n",
              "      fill: #D2E3FC;\n",
              "    }\n",
              "\n",
              "    [theme=dark] .colab-df-convert:hover {\n",
              "      background-color: #434B5C;\n",
              "      box-shadow: 0px 1px 3px 1px rgba(0, 0, 0, 0.15);\n",
              "      filter: drop-shadow(0px 1px 2px rgba(0, 0, 0, 0.3));\n",
              "      fill: #FFFFFF;\n",
              "    }\n",
              "  </style>\n",
              "\n",
              "    <script>\n",
              "      const buttonEl =\n",
              "        document.querySelector('#df-fb36b45c-1106-47fc-9634-03e33b38ae77 button.colab-df-convert');\n",
              "      buttonEl.style.display =\n",
              "        google.colab.kernel.accessAllowed ? 'block' : 'none';\n",
              "\n",
              "      async function convertToInteractive(key) {\n",
              "        const element = document.querySelector('#df-fb36b45c-1106-47fc-9634-03e33b38ae77');\n",
              "        const dataTable =\n",
              "          await google.colab.kernel.invokeFunction('convertToInteractive',\n",
              "                                                    [key], {});\n",
              "        if (!dataTable) return;\n",
              "\n",
              "        const docLinkHtml = 'Like what you see? Visit the ' +\n",
              "          '<a target=\"_blank\" href=https://colab.research.google.com/notebooks/data_table.ipynb>data table notebook</a>'\n",
              "          + ' to learn more about interactive tables.';\n",
              "        element.innerHTML = '';\n",
              "        dataTable['output_type'] = 'display_data';\n",
              "        await google.colab.output.renderOutput(dataTable, element);\n",
              "        const docLink = document.createElement('div');\n",
              "        docLink.innerHTML = docLinkHtml;\n",
              "        element.appendChild(docLink);\n",
              "      }\n",
              "    </script>\n",
              "  </div>\n",
              "\n",
              "\n",
              "<div id=\"df-6ec2d3a3-8bd9-4811-8b24-79360ef65dbf\">\n",
              "  <button class=\"colab-df-quickchart\" onclick=\"quickchart('df-6ec2d3a3-8bd9-4811-8b24-79360ef65dbf')\"\n",
              "            title=\"Suggest charts\"\n",
              "            style=\"display:none;\">\n",
              "\n",
              "<svg xmlns=\"http://www.w3.org/2000/svg\" height=\"24px\"viewBox=\"0 0 24 24\"\n",
              "     width=\"24px\">\n",
              "    <g>\n",
              "        <path d=\"M19 3H5c-1.1 0-2 .9-2 2v14c0 1.1.9 2 2 2h14c1.1 0 2-.9 2-2V5c0-1.1-.9-2-2-2zM9 17H7v-7h2v7zm4 0h-2V7h2v10zm4 0h-2v-4h2v4z\"/>\n",
              "    </g>\n",
              "</svg>\n",
              "  </button>\n",
              "\n",
              "<style>\n",
              "  .colab-df-quickchart {\n",
              "      --bg-color: #E8F0FE;\n",
              "      --fill-color: #1967D2;\n",
              "      --hover-bg-color: #E2EBFA;\n",
              "      --hover-fill-color: #174EA6;\n",
              "      --disabled-fill-color: #AAA;\n",
              "      --disabled-bg-color: #DDD;\n",
              "  }\n",
              "\n",
              "  [theme=dark] .colab-df-quickchart {\n",
              "      --bg-color: #3B4455;\n",
              "      --fill-color: #D2E3FC;\n",
              "      --hover-bg-color: #434B5C;\n",
              "      --hover-fill-color: #FFFFFF;\n",
              "      --disabled-bg-color: #3B4455;\n",
              "      --disabled-fill-color: #666;\n",
              "  }\n",
              "\n",
              "  .colab-df-quickchart {\n",
              "    background-color: var(--bg-color);\n",
              "    border: none;\n",
              "    border-radius: 50%;\n",
              "    cursor: pointer;\n",
              "    display: none;\n",
              "    fill: var(--fill-color);\n",
              "    height: 32px;\n",
              "    padding: 0;\n",
              "    width: 32px;\n",
              "  }\n",
              "\n",
              "  .colab-df-quickchart:hover {\n",
              "    background-color: var(--hover-bg-color);\n",
              "    box-shadow: 0 1px 2px rgba(60, 64, 67, 0.3), 0 1px 3px 1px rgba(60, 64, 67, 0.15);\n",
              "    fill: var(--button-hover-fill-color);\n",
              "  }\n",
              "\n",
              "  .colab-df-quickchart-complete:disabled,\n",
              "  .colab-df-quickchart-complete:disabled:hover {\n",
              "    background-color: var(--disabled-bg-color);\n",
              "    fill: var(--disabled-fill-color);\n",
              "    box-shadow: none;\n",
              "  }\n",
              "\n",
              "  .colab-df-spinner {\n",
              "    border: 2px solid var(--fill-color);\n",
              "    border-color: transparent;\n",
              "    border-bottom-color: var(--fill-color);\n",
              "    animation:\n",
              "      spin 1s steps(1) infinite;\n",
              "  }\n",
              "\n",
              "  @keyframes spin {\n",
              "    0% {\n",
              "      border-color: transparent;\n",
              "      border-bottom-color: var(--fill-color);\n",
              "      border-left-color: var(--fill-color);\n",
              "    }\n",
              "    20% {\n",
              "      border-color: transparent;\n",
              "      border-left-color: var(--fill-color);\n",
              "      border-top-color: var(--fill-color);\n",
              "    }\n",
              "    30% {\n",
              "      border-color: transparent;\n",
              "      border-left-color: var(--fill-color);\n",
              "      border-top-color: var(--fill-color);\n",
              "      border-right-color: var(--fill-color);\n",
              "    }\n",
              "    40% {\n",
              "      border-color: transparent;\n",
              "      border-right-color: var(--fill-color);\n",
              "      border-top-color: var(--fill-color);\n",
              "    }\n",
              "    60% {\n",
              "      border-color: transparent;\n",
              "      border-right-color: var(--fill-color);\n",
              "    }\n",
              "    80% {\n",
              "      border-color: transparent;\n",
              "      border-right-color: var(--fill-color);\n",
              "      border-bottom-color: var(--fill-color);\n",
              "    }\n",
              "    90% {\n",
              "      border-color: transparent;\n",
              "      border-bottom-color: var(--fill-color);\n",
              "    }\n",
              "  }\n",
              "</style>\n",
              "\n",
              "  <script>\n",
              "    async function quickchart(key) {\n",
              "      const quickchartButtonEl =\n",
              "        document.querySelector('#' + key + ' button');\n",
              "      quickchartButtonEl.disabled = true;  // To prevent multiple clicks.\n",
              "      quickchartButtonEl.classList.add('colab-df-spinner');\n",
              "      try {\n",
              "        const charts = await google.colab.kernel.invokeFunction(\n",
              "            'suggestCharts', [key], {});\n",
              "      } catch (error) {\n",
              "        console.error('Error during call to suggestCharts:', error);\n",
              "      }\n",
              "      quickchartButtonEl.classList.remove('colab-df-spinner');\n",
              "      quickchartButtonEl.classList.add('colab-df-quickchart-complete');\n",
              "    }\n",
              "    (() => {\n",
              "      let quickchartButtonEl =\n",
              "        document.querySelector('#df-6ec2d3a3-8bd9-4811-8b24-79360ef65dbf button');\n",
              "      quickchartButtonEl.style.display =\n",
              "        google.colab.kernel.accessAllowed ? 'block' : 'none';\n",
              "    })();\n",
              "  </script>\n",
              "</div>\n",
              "\n",
              "    </div>\n",
              "  </div>\n"
            ],
            "application/vnd.google.colaboratory.intrinsic+json": {
              "type": "dataframe",
              "summary": "{\n  \"name\": \"display(insurnace_data\",\n  \"rows\": 5,\n  \"fields\": [\n    {\n      \"column\": \"Customer\",\n      \"properties\": {\n        \"dtype\": \"string\",\n        \"num_unique_values\": 5,\n        \"samples\": [\n          \"QZ44356\",\n          \"GA49547\",\n          \"AI49188\"\n        ],\n        \"semantic_type\": \"\",\n        \"description\": \"\"\n      }\n    },\n    {\n      \"column\": \"ST\",\n      \"properties\": {\n        \"dtype\": \"string\",\n        \"num_unique_values\": 4,\n        \"samples\": [\n          \"Arizona\",\n          \"California\",\n          \"Washington\"\n        ],\n        \"semantic_type\": \"\",\n        \"description\": \"\"\n      }\n    },\n    {\n      \"column\": \"GENDER\",\n      \"properties\": {\n        \"dtype\": \"category\",\n        \"num_unique_values\": 2,\n        \"samples\": [\n          \"M\",\n          \"F\"\n        ],\n        \"semantic_type\": \"\",\n        \"description\": \"\"\n      }\n    },\n    {\n      \"column\": \"Education\",\n      \"properties\": {\n        \"dtype\": \"string\",\n        \"num_unique_values\": 3,\n        \"samples\": [\n          \"Master\",\n          \"Bachelor\"\n        ],\n        \"semantic_type\": \"\",\n        \"description\": \"\"\n      }\n    },\n    {\n      \"column\": \"Customer Lifetime Value\",\n      \"properties\": {\n        \"dtype\": \"string\",\n        \"num_unique_values\": 4,\n        \"samples\": [\n          \"1288743.17%\",\n          \"536307.65%\"\n        ],\n        \"semantic_type\": \"\",\n        \"description\": \"\"\n      }\n    },\n    {\n      \"column\": \"Income\",\n      \"properties\": {\n        \"dtype\": \"number\",\n        \"std\": 23721.470563605453,\n        \"min\": 0.0,\n        \"max\": 48767.0,\n        \"num_unique_values\": 3,\n        \"samples\": [\n          0.0,\n          48767.0\n        ],\n        \"semantic_type\": \"\",\n        \"description\": \"\"\n      }\n    },\n    {\n      \"column\": \"Monthly Premium Auto\",\n      \"properties\": {\n        \"dtype\": \"number\",\n        \"std\": 405.48884078356576,\n        \"min\": 68.0,\n        \"max\": 1000.0,\n        \"num_unique_values\": 5,\n        \"samples\": [\n          94.0,\n          68.0\n        ],\n        \"semantic_type\": \"\",\n        \"description\": \"\"\n      }\n    },\n    {\n      \"column\": \"Number of Open Complaints\",\n      \"properties\": {\n        \"dtype\": \"category\",\n        \"num_unique_values\": 1,\n        \"samples\": [\n          \"1/0/00\"\n        ],\n        \"semantic_type\": \"\",\n        \"description\": \"\"\n      }\n    },\n    {\n      \"column\": \"Policy Type\",\n      \"properties\": {\n        \"dtype\": \"category\",\n        \"num_unique_values\": 2,\n        \"samples\": [\n          \"Corporate Auto\"\n        ],\n        \"semantic_type\": \"\",\n        \"description\": \"\"\n      }\n    },\n    {\n      \"column\": \"Vehicle Class\",\n      \"properties\": {\n        \"dtype\": \"string\",\n        \"num_unique_values\": 3,\n        \"samples\": [\n          \"Four-Door Car\"\n        ],\n        \"semantic_type\": \"\",\n        \"description\": \"\"\n      }\n    },\n    {\n      \"column\": \"Total Claim Amount\",\n      \"properties\": {\n        \"dtype\": \"number\",\n        \"std\": 466.81608037814937,\n        \"min\": 2.704934,\n        \"max\": 1131.464935,\n        \"num_unique_values\": 5,\n        \"samples\": [\n          1131.464935\n        ],\n        \"semantic_type\": \"\",\n        \"description\": \"\"\n      }\n    }\n  ]\n}"
            }
          },
          "metadata": {}
        }
      ],
      "source": [
        "import pandas as pd\n",
        "\n",
        "# URL of the raw CSV file\n",
        "url = \"https://raw.githubusercontent.com/data-bootcamp-v4/data/main/file1.csv\"\n",
        "\n",
        "# Read the CSV file from the URL\n",
        "insurnace_data = pd.read_csv(url)\n",
        "\n",
        "# Display the first few rows of the dataframe\n",
        "display(insurnace_data.head())"
      ]
    },
    {
      "cell_type": "markdown",
      "source": [],
      "metadata": {
        "id": "cJ5Ftqglr4ND"
      },
      "id": "cJ5Ftqglr4ND"
    },
    {
      "cell_type": "code",
      "source": [
        "# Get the dimensions\n",
        "num_rows, num_columns = insurnace_data.shape\n",
        "print(f\"The dataset has {num_rows} rows and {num_columns} columns.\")"
      ],
      "metadata": {
        "colab": {
          "base_uri": "https://localhost:8080/"
        },
        "id": "paJDvBtSq_WG",
        "outputId": "760b69ff-8537-42de-c5b7-4aa6101d2d16"
      },
      "id": "paJDvBtSq_WG",
      "execution_count": 2,
      "outputs": [
        {
          "output_type": "stream",
          "name": "stdout",
          "text": [
            "The dataset has 4008 rows and 11 columns.\n"
          ]
        }
      ]
    },
    {
      "cell_type": "code",
      "source": [
        "# Get data types\n",
        "data_types = insurnace_data.dtypes\n",
        "print(\"Data types of each column:\")\n",
        "print(data_types)"
      ],
      "metadata": {
        "colab": {
          "base_uri": "https://localhost:8080/"
        },
        "id": "ag2-zSGRrjMC",
        "outputId": "5f1d4614-d165-49b1-be4b-4fe093e71d50"
      },
      "id": "ag2-zSGRrjMC",
      "execution_count": 3,
      "outputs": [
        {
          "output_type": "stream",
          "name": "stdout",
          "text": [
            "Data types of each column:\n",
            "Customer                      object\n",
            "ST                            object\n",
            "GENDER                        object\n",
            "Education                     object\n",
            "Customer Lifetime Value       object\n",
            "Income                       float64\n",
            "Monthly Premium Auto         float64\n",
            "Number of Open Complaints     object\n",
            "Policy Type                   object\n",
            "Vehicle Class                 object\n",
            "Total Claim Amount           float64\n",
            "dtype: object\n"
          ]
        }
      ]
    },
    {
      "cell_type": "markdown",
      "source": [
        "Number of Open Complaints     object\n",
        "\n",
        "Customer Lifetime Value       object\n",
        "\n",
        "sugesstion to fix the datatype for these columns."
      ],
      "metadata": {
        "id": "xfEbOHKqsBRy"
      },
      "id": "xfEbOHKqsBRy"
    },
    {
      "cell_type": "code",
      "source": [
        "print(insurnace_data['Customer Lifetime Value'].unique())"
      ],
      "metadata": {
        "colab": {
          "base_uri": "https://localhost:8080/"
        },
        "id": "Z5CQ1Sgj9B3Q",
        "outputId": "59c89a16-f0cc-48be-ed21-44b60e94b4af"
      },
      "id": "Z5CQ1Sgj9B3Q",
      "execution_count": 4,
      "outputs": [
        {
          "output_type": "stream",
          "name": "stdout",
          "text": [
            "[nan '697953.59%' '1288743.17%' ... '2031499.76%' '323912.47%'\n",
            " '899704.02%']\n"
          ]
        }
      ]
    },
    {
      "cell_type": "code",
      "source": [
        "print(insurnace_data['Number of Open Complaints'].unique())"
      ],
      "metadata": {
        "colab": {
          "base_uri": "https://localhost:8080/"
        },
        "id": "37Ofc4s69cBL",
        "outputId": "83e0c84c-1f93-442b-d20c-9ff909fb4aba"
      },
      "id": "37Ofc4s69cBL",
      "execution_count": 5,
      "outputs": [
        {
          "output_type": "stream",
          "name": "stdout",
          "text": [
            "['1/0/00' '1/2/00' '1/1/00' '1/3/00' '1/5/00' '1/4/00' nan]\n"
          ]
        }
      ]
    },
    {
      "cell_type": "code",
      "source": [
        "# Extract numbers\n",
        "insurnace_data['Number of Open Complaints'] = insurnace_data['Number of Open Complaints'].str.extract('(\\d+)')[0].astype(float)"
      ],
      "metadata": {
        "id": "-pMam7ZV-EmR"
      },
      "id": "-pMam7ZV-EmR",
      "execution_count": 6,
      "outputs": []
    },
    {
      "cell_type": "code",
      "source": [
        "# Convert 'Customer Lifetime Value' to string type before using .str methods\n",
        "insurnace_data['Customer Lifetime Value'] = insurnace_data['Customer Lifetime Value'].astype(str)\n",
        "\n",
        "# Remove '%' from the string\n",
        "insurnace_data['Customer Lifetime Value'] = insurnace_data['Customer Lifetime Value'].str.rstrip('%')\n",
        "\n",
        "# Convert the cleaned string values (Customer Lifetime Value)  to a float and divide by 100\n",
        "insurnace_data['Customer Lifetime Value'] = insurnace_data['Customer Lifetime Value'].astype(float) / 100\n",
        "\n",
        "# Convert the column to numeric for calculations later\n",
        "insurnace_data['Customer Lifetime Value'] = pd.to_numeric(insurnace_data['Customer Lifetime Value'], errors='coerce')\n",
        "insurnace_data['Number of Open Complaints'] = pd.to_numeric(insurnace_data['Number of Open Complaints'], errors='coerce')"
      ],
      "metadata": {
        "id": "O6PXSnXH9roD"
      },
      "id": "O6PXSnXH9roD",
      "execution_count": 7,
      "outputs": []
    },
    {
      "cell_type": "code",
      "source": [
        "# Handling the missing values\n",
        "insurnace_data['Customer Lifetime Value'].fillna(insurnace_data['Customer Lifetime Value'].median(), inplace=True)\n",
        "insurnace_data['Number of Open Complaints'].fillna(0, inplace=True)  # Assuming 0 complaints as a default"
      ],
      "metadata": {
        "colab": {
          "base_uri": "https://localhost:8080/"
        },
        "id": "G0_okocp_3Y2",
        "outputId": "7eddaea7-ccd2-4694-d4f8-cdd31ea12e51"
      },
      "id": "G0_okocp_3Y2",
      "execution_count": 8,
      "outputs": [
        {
          "output_type": "stream",
          "name": "stderr",
          "text": [
            "<ipython-input-8-08351ef29cc6>:2: FutureWarning: A value is trying to be set on a copy of a DataFrame or Series through chained assignment using an inplace method.\n",
            "The behavior will change in pandas 3.0. This inplace method will never work because the intermediate object on which we are setting values always behaves as a copy.\n",
            "\n",
            "For example, when doing 'df[col].method(value, inplace=True)', try using 'df.method({col: value}, inplace=True)' or df[col] = df[col].method(value) instead, to perform the operation inplace on the original object.\n",
            "\n",
            "\n",
            "  insurnace_data['Customer Lifetime Value'].fillna(insurnace_data['Customer Lifetime Value'].median(), inplace=True)\n",
            "<ipython-input-8-08351ef29cc6>:3: FutureWarning: A value is trying to be set on a copy of a DataFrame or Series through chained assignment using an inplace method.\n",
            "The behavior will change in pandas 3.0. This inplace method will never work because the intermediate object on which we are setting values always behaves as a copy.\n",
            "\n",
            "For example, when doing 'df[col].method(value, inplace=True)', try using 'df.method({col: value}, inplace=True)' or df[col] = df[col].method(value) instead, to perform the operation inplace on the original object.\n",
            "\n",
            "\n",
            "  insurnace_data['Number of Open Complaints'].fillna(0, inplace=True)  # Assuming 0 complaints as a default\n"
          ]
        }
      ]
    },
    {
      "cell_type": "code",
      "source": [
        "# Check the first few rows to ensure conversion is successful\n",
        "print(insurnace_data['Number of Open Complaints'].head())\n"
      ],
      "metadata": {
        "colab": {
          "base_uri": "https://localhost:8080/"
        },
        "id": "X4xN-LWzBDbM",
        "outputId": "fe5c06c9-326f-44a6-f851-bd6722320fd2"
      },
      "id": "X4xN-LWzBDbM",
      "execution_count": 9,
      "outputs": [
        {
          "output_type": "stream",
          "name": "stdout",
          "text": [
            "0    1.0\n",
            "1    1.0\n",
            "2    1.0\n",
            "3    1.0\n",
            "4    1.0\n",
            "Name: Number of Open Complaints, dtype: float64\n"
          ]
        }
      ]
    },
    {
      "cell_type": "code",
      "source": [
        "# Unique values per column\n",
        "\n",
        "unique_values = insurnace_data.nunique()\n",
        "print(\"Number of unique values per column:\")\n",
        "print(unique_values)"
      ],
      "metadata": {
        "colab": {
          "base_uri": "https://localhost:8080/"
        },
        "id": "Nzbjmf9osQ6c",
        "outputId": "db5bfa98-7d81-4fba-a5d7-bc965ff43c76"
      },
      "id": "Nzbjmf9osQ6c",
      "execution_count": 10,
      "outputs": [
        {
          "output_type": "stream",
          "name": "stdout",
          "text": [
            "Number of unique values per column:\n",
            "Customer                     1071\n",
            "ST                              8\n",
            "GENDER                          5\n",
            "Education                       6\n",
            "Customer Lifetime Value      1028\n",
            "Income                        774\n",
            "Monthly Premium Auto          132\n",
            "Number of Open Complaints       2\n",
            "Policy Type                     3\n",
            "Vehicle Class                   6\n",
            "Total Claim Amount            761\n",
            "dtype: int64\n"
          ]
        }
      ]
    },
    {
      "cell_type": "markdown",
      "source": [
        "Categorical columns: gender, education ,policy type ,vehicle class, ST\n"
      ],
      "metadata": {
        "id": "UJq8ubg0sx1E"
      },
      "id": "UJq8ubg0sx1E"
    },
    {
      "cell_type": "code",
      "source": [
        "# Example for a categorical column\n",
        "print(\"\\nUnique values of GENDER column:\")\n",
        "print(insurnace_data['GENDER'].unique())\n",
        "\n",
        "print(\"\\nUnique values of Education column:\")\n",
        "print(insurnace_data['Education'].unique())\n",
        "\n",
        "print(\"\\nUnique values of Policy Type column:\")\n",
        "print(insurnace_data['Policy Type'].unique())\n",
        "\n",
        "print(\"\\nUnique values of Vehicle Class column:\")\n",
        "print(insurnace_data['Vehicle Class'].unique())\n",
        "\n",
        "print(\"\\nUnique values of ST column:\")\n",
        "print(insurnace_data['ST'].unique())"
      ],
      "metadata": {
        "colab": {
          "base_uri": "https://localhost:8080/"
        },
        "id": "LYrhT0SRtVQg",
        "outputId": "3a973bde-455d-4672-a2e3-9f8247f18658"
      },
      "id": "LYrhT0SRtVQg",
      "execution_count": 11,
      "outputs": [
        {
          "output_type": "stream",
          "name": "stdout",
          "text": [
            "\n",
            "Unique values of GENDER column:\n",
            "[nan 'F' 'M' 'Femal' 'Male' 'female']\n",
            "\n",
            "Unique values of Education column:\n",
            "['Master' 'Bachelor' 'High School or Below' 'College' 'Bachelors' 'Doctor'\n",
            " nan]\n",
            "\n",
            "Unique values of Policy Type column:\n",
            "['Personal Auto' 'Corporate Auto' 'Special Auto' nan]\n",
            "\n",
            "Unique values of Vehicle Class column:\n",
            "['Four-Door Car' 'Two-Door Car' 'SUV' 'Luxury SUV' 'Sports Car'\n",
            " 'Luxury Car' nan]\n",
            "\n",
            "Unique values of ST column:\n",
            "['Washington' 'Arizona' 'Nevada' 'California' 'Oregon' 'Cali' 'AZ' 'WA'\n",
            " nan]\n"
          ]
        }
      ]
    },
    {
      "cell_type": "markdown",
      "source": [
        "Numerical columns:COSTUMER, Income, Monthly Premium Auto, Number of Open Complaints, Total Claim Amount"
      ],
      "metadata": {
        "id": "NxSQm1_1uwP1"
      },
      "id": "NxSQm1_1uwP1"
    },
    {
      "cell_type": "code",
      "source": [
        "# Describe numerical columns\n",
        "numerical_columns = ['Income','Customer Lifetime Value', 'Monthly Premium Auto', 'Number of Open Complaints', 'Total Claim Amount']\n",
        "numerical_summary = insurnace_data[numerical_columns].describe()\n",
        "print(\"Summary statistics for numerical columns:\")\n",
        "print(numerical_summary)"
      ],
      "metadata": {
        "colab": {
          "base_uri": "https://localhost:8080/"
        },
        "id": "-0JTA8xxvApf",
        "outputId": "e55e8648-acae-421e-8b90-acd2e29f4aac"
      },
      "id": "-0JTA8xxvApf",
      "execution_count": 12,
      "outputs": [
        {
          "output_type": "stream",
          "name": "stdout",
          "text": [
            "Summary statistics for numerical columns:\n",
            "             Income  Customer Lifetime Value  Monthly Premium Auto  \\\n",
            "count   1071.000000              4008.000000           1071.000000   \n",
            "mean   39295.701214              6429.374870            193.234360   \n",
            "std    30469.427060              3442.622772           1601.190369   \n",
            "min        0.000000              2004.350700             61.000000   \n",
            "25%    14072.000000              5881.742350             68.000000   \n",
            "50%    36234.000000              5881.742350             83.000000   \n",
            "75%    64631.000000              5881.742350            109.500000   \n",
            "max    99960.000000             58166.553500          35354.000000   \n",
            "\n",
            "       Number of Open Complaints  Total Claim Amount  \n",
            "count                4008.000000         1071.000000  \n",
            "mean                    0.267216          404.986909  \n",
            "std                     0.442561          293.027260  \n",
            "min                     0.000000            0.382107  \n",
            "25%                     0.000000          202.157702  \n",
            "50%                     0.000000          354.729129  \n",
            "75%                     1.000000          532.800000  \n",
            "max                     1.000000         2893.239678  \n"
          ]
        }
      ]
    },
    {
      "cell_type": "code",
      "source": [
        "# Describe categorical columns\n",
        "categorical_columns = ['GENDER', 'Education', 'Policy Type', 'Vehicle Class', 'ST']\n",
        "categorical_summary = insurnace_data[categorical_columns].describe()\n",
        "print(\"Summary statistics for categorical columns:\")\n",
        "print(categorical_summary)"
      ],
      "metadata": {
        "colab": {
          "base_uri": "https://localhost:8080/"
        },
        "id": "MKxDk-vTvTi5",
        "outputId": "6a717214-c951-4cf9-f9c9-70fd23fa7787"
      },
      "id": "MKxDk-vTvTi5",
      "execution_count": 13,
      "outputs": [
        {
          "output_type": "stream",
          "name": "stdout",
          "text": [
            "Summary statistics for categorical columns:\n",
            "       GENDER Education    Policy Type  Vehicle Class      ST\n",
            "count     954      1071           1071           1071    1071\n",
            "unique      5         6              3              6       8\n",
            "top         F  Bachelor  Personal Auto  Four-Door Car  Oregon\n",
            "freq      457       324            780            576     320\n"
          ]
        }
      ]
    },
    {
      "cell_type": "code",
      "source": [
        "# summary statistics for numerical columns\n",
        "mean_values = insurnace_data[numerical_columns].mean()\n",
        "median_values = insurnace_data[numerical_columns].median()\n",
        "std_dev = insurnace_data[numerical_columns].std()\n",
        "\n",
        "# Display statistics\n",
        "print(f'Mean values:\\n{mean_values}')\n",
        "print(f'Median values:\\n{median_values}')\n",
        "print(f'Standard deviation:\\n{std_dev}')"
      ],
      "metadata": {
        "colab": {
          "base_uri": "https://localhost:8080/"
        },
        "id": "onhpn4Lx5kVP",
        "outputId": "e0b1e77c-ede7-4861-e632-703704e4f126"
      },
      "id": "onhpn4Lx5kVP",
      "execution_count": 14,
      "outputs": [
        {
          "output_type": "stream",
          "name": "stdout",
          "text": [
            "Mean values:\n",
            "Income                       39295.701214\n",
            "Customer Lifetime Value       6429.374870\n",
            "Monthly Premium Auto           193.234360\n",
            "Number of Open Complaints        0.267216\n",
            "Total Claim Amount             404.986909\n",
            "dtype: float64\n",
            "Median values:\n",
            "Income                       36234.000000\n",
            "Customer Lifetime Value       5881.742350\n",
            "Monthly Premium Auto            83.000000\n",
            "Number of Open Complaints        0.000000\n",
            "Total Claim Amount             354.729129\n",
            "dtype: float64\n",
            "Standard deviation:\n",
            "Income                       30469.427060\n",
            "Customer Lifetime Value       3442.622772\n",
            "Monthly Premium Auto          1601.190369\n",
            "Number of Open Complaints        0.442561\n",
            "Total Claim Amount             293.027260\n",
            "dtype: float64\n"
          ]
        }
      ]
    },
    {
      "cell_type": "code",
      "source": [
        "# summary statistics for categorical columns\n",
        "print(insurnace_data[categorical_columns].value_counts())"
      ],
      "metadata": {
        "colab": {
          "base_uri": "https://localhost:8080/"
        },
        "id": "7bprm6AZ7BVZ",
        "outputId": "21445d5b-7efb-450c-985b-69fcc4b6af5d"
      },
      "id": "7bprm6AZ7BVZ",
      "execution_count": 15,
      "outputs": [
        {
          "output_type": "stream",
          "name": "stdout",
          "text": [
            "GENDER  Education             Policy Type    Vehicle Class  ST        \n",
            "F       High School or Below  Personal Auto  Four-Door Car  Oregon        18\n",
            "                                                            Arizona       17\n",
            "        College               Personal Auto  Four-Door Car  Oregon        14\n",
            "M       Bachelor              Personal Auto  Four-Door Car  Cali          14\n",
            "F       Bachelor              Personal Auto  Four-Door Car  Oregon        13\n",
            "                                                                          ..\n",
            "                                             Luxury SUV     Nevada         1\n",
            "M       Bachelor              Personal Auto  SUV            Cali           1\n",
            "                                                            Nevada         1\n",
            "F       Bachelor              Personal Auto  Luxury SUV     California     1\n",
            "female  Master                Personal Auto  Two-Door Car   Washington     1\n",
            "Name: count, Length: 418, dtype: int64\n"
          ]
        }
      ]
    },
    {
      "cell_type": "markdown",
      "id": "4a703890-63db-4944-b7ab-95a4f8185120",
      "metadata": {
        "id": "4a703890-63db-4944-b7ab-95a4f8185120"
      },
      "source": [
        "## Challenge 2: analyzing the data"
      ]
    },
    {
      "cell_type": "markdown",
      "id": "0776a403-c56a-452f-ac33-5fd4fdb06fc7",
      "metadata": {
        "id": "0776a403-c56a-452f-ac33-5fd4fdb06fc7"
      },
      "source": [
        "### Exercise 1"
      ]
    },
    {
      "cell_type": "markdown",
      "id": "eedbc484-da4d-4f9c-9343-e1d44311a87e",
      "metadata": {
        "id": "eedbc484-da4d-4f9c-9343-e1d44311a87e"
      },
      "source": [
        "The marketing team wants to know the top 5 less common customer locations. Create a pandas Series object that contains the customer locations and their frequencies, and then retrieve the top 5 less common locations in ascending order."
      ]
    },
    {
      "cell_type": "code",
      "execution_count": 21,
      "id": "2dca5073-4520-4f42-9390-4b92733284ed",
      "metadata": {
        "colab": {
          "base_uri": "https://localhost:8080/"
        },
        "id": "2dca5073-4520-4f42-9390-4b92733284ed",
        "outputId": "f34b9b76-e854-4bba-ddef-22ffd20fd35a"
      },
      "outputs": [
        {
          "output_type": "stream",
          "name": "stdout",
          "text": [
            "Top 5 less common customer locations:\n",
            "ST\n",
            "AZ             25\n",
            "WA             30\n",
            "Washington     81\n",
            "Nevada         98\n",
            "Cali          120\n",
            "Name: count, dtype: int64\n"
          ]
        }
      ],
      "source": [
        "location_counts = insurnace_data['ST'].value_counts()\n",
        "location_counts_sorted = location_counts.sort_values(ascending=True)\n",
        "top_5_less_common = location_counts_sorted.head(5)\n",
        "print(\"Top 5 less common customer locations:\")\n",
        "print(top_5_less_common)"
      ]
    },
    {
      "cell_type": "markdown",
      "id": "0ce80f43-4afa-43c7-a78a-c917444da4e0",
      "metadata": {
        "id": "0ce80f43-4afa-43c7-a78a-c917444da4e0"
      },
      "source": [
        "### Exercise 2\n",
        "\n",
        "The sales team wants to know the total number of policies sold for each type of policy. Create a pandas Series object that contains the policy types and their total number of policies sold, and then retrieve the policy type with the highest number of policies sold."
      ]
    },
    {
      "cell_type": "markdown",
      "id": "a9f13997-1555-4f98-aca6-970fda1d2c3f",
      "metadata": {
        "id": "a9f13997-1555-4f98-aca6-970fda1d2c3f"
      },
      "source": [
        "*Hint:*\n",
        "- *Using value_counts() method simplifies this analysis.*\n",
        "- *Futhermore, there is a method that returns the index of the maximum value in a column or row.*\n"
      ]
    },
    {
      "cell_type": "code",
      "execution_count": 23,
      "id": "bcfad6c1-9af2-4b0b-9aa9-0dc5c17473c0",
      "metadata": {
        "colab": {
          "base_uri": "https://localhost:8080/"
        },
        "id": "bcfad6c1-9af2-4b0b-9aa9-0dc5c17473c0",
        "outputId": "b598170b-2339-40f7-9ac6-61444062a4a9"
      },
      "outputs": [
        {
          "output_type": "stream",
          "name": "stdout",
          "text": [
            "Total number of policies sold for each type:\n",
            "Policy Type\n",
            "Personal Auto     780\n",
            "Corporate Auto    234\n",
            "Special Auto       57\n",
            "Name: count, dtype: int64\n",
            "\n",
            "Policy type with the most policies sold:\n",
            "Personal Auto\n"
          ]
        }
      ],
      "source": [
        "total_policies_sold = insurnace_data['Policy Type'].value_counts()\n",
        "policy_type_with_most_policies = total_policies_sold.idxmax()\n",
        "print(\"Total number of policies sold for each type:\")\n",
        "print(total_policies_sold)\n",
        "\n",
        "print(\"\\nPolicy type with the most policies sold:\")\n",
        "print(policy_type_with_most_policies)"
      ]
    },
    {
      "cell_type": "markdown",
      "id": "0b863fd3-bf91-4d5d-86eb-be29ed9f5b70",
      "metadata": {
        "id": "0b863fd3-bf91-4d5d-86eb-be29ed9f5b70"
      },
      "source": [
        "### Exercise 3\n",
        "\n",
        "The sales team wants to know if customers with Personal Auto have a lower income than those with Corporate Auto. How does the average income compare between the two policy types?"
      ]
    },
    {
      "cell_type": "markdown",
      "id": "b1386d75-2810-4aa1-93e0-9485aa12d552",
      "metadata": {
        "id": "b1386d75-2810-4aa1-93e0-9485aa12d552"
      },
      "source": [
        "- Use *loc* to create two dataframes: one containing only Personal Auto policies and one containing only Corporate Auto policies.\n",
        "- Calculate the average income for each policy.\n",
        "- Print the results."
      ]
    },
    {
      "cell_type": "code",
      "execution_count": 25,
      "id": "0c0563cf-6f8b-463d-a321-651a972f82e5",
      "metadata": {
        "colab": {
          "base_uri": "https://localhost:8080/"
        },
        "id": "0c0563cf-6f8b-463d-a321-651a972f82e5",
        "outputId": "f0dcbf39-5b85-4a52-bb4f-41e8b6bdb5f2"
      },
      "outputs": [
        {
          "output_type": "stream",
          "name": "stdout",
          "text": [
            "Average income for Personal Auto policies: $38180.70\n",
            "Average income for Corporate Auto policies: $41390.31\n"
          ]
        }
      ],
      "source": [
        "average_income_personal_auto = insurnace_data.loc[insurnace_data['Policy Type'] == 'Personal Auto', 'Income'].mean()\n",
        "average_income_corporate_auto = insurnace_data.loc[insurnace_data['Policy Type'] == 'Corporate Auto', 'Income'].mean()\n",
        "\n",
        "print(f\"Average income for Personal Auto policies: ${average_income_personal_auto:.2f}\")\n",
        "print(f\"Average income for Corporate Auto policies: ${average_income_corporate_auto:.2f}\")"
      ]
    },
    {
      "cell_type": "markdown",
      "id": "80b16c27-f4a5-4727-a229-1f88671cf4e2",
      "metadata": {
        "id": "80b16c27-f4a5-4727-a229-1f88671cf4e2"
      },
      "source": [
        "### Bonus: Exercise 4\n"
      ]
    },
    {
      "cell_type": "markdown",
      "id": "ac584986-299b-475f-ac2e-928c16c3f512",
      "metadata": {
        "id": "ac584986-299b-475f-ac2e-928c16c3f512"
      },
      "source": [
        "Your goal is to identify customers with a high policy claim amount.\n",
        "\n",
        "Instructions:\n",
        "\n",
        "- Review again the statistics for total claim amount to gain an understanding of the data.\n",
        "- To identify potential areas for improving customer retention and profitability, we want to focus on customers with a high policy claim amount. Consider customers with a high policy claim amount to be those in the top 25% of the total claim amount. Create a pandas DataFrame object that contains information about customers with a policy claim amount greater than the 75th percentile.\n",
        "- Use DataFrame methods to calculate summary statistics about the high policy claim amount data."
      ]
    },
    {
      "cell_type": "markdown",
      "id": "4e3af5f1-6023-4b05-9c01-d05392daa650",
      "metadata": {
        "id": "4e3af5f1-6023-4b05-9c01-d05392daa650"
      },
      "source": [
        "*Note: When analyzing data, we often want to focus on certain groups of values to gain insights. Percentiles are a useful tool to help us define these groups. A percentile is a measure that tells us what percentage of values in a dataset are below a certain value. For example, the 75th percentile represents the value below which 75% of the data falls. Similarly, the 25th percentile represents the value below which 25% of the data falls. When we talk about the top 25%, we are referring to the values that fall above the 75th percentile, which represent the top quarter of the data. On the other hand, when we talk about the bottom 25%, we are referring to the values that fall below the 25th percentile, which represent the bottom quarter of the data. By focusing on these groups, we can identify patterns and trends that may be useful for making decisions and taking action.*\n",
        "\n",
        "*Hint: look for a method that gives you the percentile or quantile 0.75 and 0.25 for a Pandas Series.*"
      ]
    },
    {
      "cell_type": "markdown",
      "id": "2d234634-50bd-41e0-88f7-d5ba684455d1",
      "metadata": {
        "id": "2d234634-50bd-41e0-88f7-d5ba684455d1"
      },
      "source": [
        "*Hint 2: check `Boolean selection according to the values of a single column` in https://towardsdatascience.com/filtering-data-frames-in-pandas-b570b1f834b9*"
      ]
    },
    {
      "cell_type": "code",
      "execution_count": 19,
      "id": "b731bca6-a760-4860-a27b-a33efa712ce0",
      "metadata": {
        "id": "b731bca6-a760-4860-a27b-a33efa712ce0"
      },
      "outputs": [],
      "source": [
        "# Your code here"
      ]
    }
  ],
  "metadata": {
    "kernelspec": {
      "display_name": "Python 3 (ipykernel)",
      "language": "python",
      "name": "python3"
    },
    "language_info": {
      "codemirror_mode": {
        "name": "ipython",
        "version": 3
      },
      "file_extension": ".py",
      "mimetype": "text/x-python",
      "name": "python",
      "nbconvert_exporter": "python",
      "pygments_lexer": "ipython3",
      "version": "3.9.13"
    },
    "colab": {
      "provenance": []
    }
  },
  "nbformat": 4,
  "nbformat_minor": 5
}